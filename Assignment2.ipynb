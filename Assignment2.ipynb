{
 "cells": [
  {
   "cell_type": "markdown",
   "metadata": {},
   "source": [
    "## Assignment 2 - Structures and Functions"
   ]
  },
  {
   "cell_type": "markdown",
   "metadata": {},
   "source": [
    "## Part 1\n",
    "* Create a function `power` which computes $a^n$ where n is an integer value.\n",
    "(You may assume that n is non-negative.)"
   ]
  },
  {
   "cell_type": "markdown",
   "metadata": {},
   "source": [
    "## Part 2\n",
    "* Create a function `get_pi` which takes a single argument n that defaults to 4 and is the number of terms to use in your computation. Use the first n terms of the sequence\n",
    "\n",
    "$pi = 4 [1 - 1/3 + 1/5 - 1/7 + 1/9 - 1/11 + ...]$\n",
    "\n",
    "* Create a function `e_to_the_x` with two arguments x and n (the number of terms to use.)  Compute the approximation to $e^x$ and compare with `e**x`. Use the sequence \n",
    "\n",
    "$e^x = 1 + x + x^2/2! + x^3/3! + x^4/4! + ...$\n"
   ]
  },
  {
   "cell_type": "markdown",
   "metadata": {},
   "source": [
    "## Part 3\n",
    "* Implement computation of the Fibonnaci sequence.  Here is the recursive formula:\n",
    "\n",
    "$F(n) = \\left\\{ \n",
    "\\begin{array}{ll}\n",
    "0 & if n=0\\\\\n",
    "1 & if n=1\\\\\n",
    "F(n-1) + F(n-2) & if n>1\\\\ \n",
    "\\end{array}\n",
    "\\right. $\n"
   ]
  },
  {
   "cell_type": "markdown",
   "metadata": {},
   "source": [
    "## Part 4\n",
    "* Write a function `counter` that will take a list and a value k. Compute the number of values >, <, = to k. Return the result as a tuple.\n",
    "* Write a function `seconds` that will compute the second smallest and second largest values in a list of values. Return the result as a pair. You may assume that the list has at least three values.\n",
    "* Write a function `median` that will compute the median of a list of numbers.  Sort the list.  If the length is odd, return the middle value.  If the length is even, return the average of the upper and lower medians.  Example:  The median of 1, 2, 3, 5, 11, 12 is the average of 3 and 5."
   ]
  },
  {
   "cell_type": "markdown",
   "metadata": {},
   "source": [
    "## Part 5\n",
    "* Write a function `character_count` that takes in a string and will use a dictionary to count the number of times each alpha character appears in the string. Use a dict to keep the counts for each letter from a to z."
   ]
  },
  {
   "cell_type": "markdown",
   "metadata": {},
   "source": [
    "## Part 6\n",
    "Do at least three calls on each function you created to verify the correct operation."
   ]
  },
  {
   "cell_type": "markdown",
   "metadata": {},
   "source": [
    "## Bonus\n",
    "* Give a new definition for `F(n)` that uses iteration instead of recursion.\n",
    "* Give a new definition for `power(a,n)` that uses recursion. Hint: if n is even you can write $a^n = a^{n/2} \\times a^{n/2}$ and something similar if n is odd.\n",
    "* Show that your new functions correspond on some typical arguments to the previous definitions.\n",
    "\n"
   ]
  },
  {
   "cell_type": "code",
   "execution_count": null,
   "metadata": {},
   "outputs": [],
   "source": []
  }
 ],
 "metadata": {
  "kernelspec": {
   "display_name": "Python 3",
   "language": "python",
   "name": "python3"
  },
  "language_info": {
   "codemirror_mode": {
    "name": "ipython",
    "version": 3
   },
   "file_extension": ".py",
   "mimetype": "text/x-python",
   "name": "python",
   "nbconvert_exporter": "python",
   "pygments_lexer": "ipython3",
   "version": "3.9.0"
  }
 },
 "nbformat": 4,
 "nbformat_minor": 4
}
